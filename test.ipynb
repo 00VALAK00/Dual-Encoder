{
 "cells": [
  {
   "metadata": {
    "ExecuteTime": {
     "end_time": "2024-09-09T13:06:09.530999Z",
     "start_time": "2024-09-09T13:06:00.019076Z"
    }
   },
   "cell_type": "code",
   "source": [
    "import torch\n",
    "from transformers import BertTokenizer\n",
    "\n",
    "from data.dataset import CustomDataset\n",
    "from torch.utils.data import DataLoader\n",
    "device=torch.device('cuda') if torch.cuda.is_available() else torch.device('cpu')\n",
    "\n",
    "data_loader=DataLoader(CustomDataset(tokenize=True), batch_size=32, shuffle=True)\n"
   ],
   "id": "cf7c10643549f01",
   "outputs": [],
   "execution_count": 1
  },
  {
   "metadata": {
    "ExecuteTime": {
     "end_time": "2024-09-09T13:13:23.164963Z",
     "start_time": "2024-09-09T13:13:23.156919Z"
    }
   },
   "cell_type": "code",
   "source": [
    "# number of examples \n",
    "print(f\"number of examples are: {len(data_loader.dataset)}\")"
   ],
   "id": "f9507f72e3edbdb",
   "outputs": [
    {
     "name": "stdout",
     "output_type": "stream",
     "text": [
      "number of examples are: 4012\n"
     ]
    }
   ],
   "execution_count": 10
  },
  {
   "metadata": {
    "ExecuteTime": {
     "end_time": "2024-09-09T13:13:28.165243Z",
     "start_time": "2024-09-09T13:13:24.481809Z"
    }
   },
   "cell_type": "code",
   "source": [
    "# sample question-answer examples\n",
    "import random\n",
    "\n",
    "Q_A_data=CustomDataset().dataset\n",
    "random_idx=random.randint(0,len(Q_A_data)-1)\n",
    "print(f\"Question\\n {Q_A_data[random_idx]['question']}\")\n",
    "print(f\"Answer\\n {Q_A_data[random_idx]['answer']}\")"
   ],
   "id": "688700598fe79882",
   "outputs": [
    {
     "name": "stdout",
     "output_type": "stream",
     "text": [
      "Question\n",
      " Is SATB1 necessary for T-cell maturation?\n",
      "Answer\n",
      " Special AT-rich sequence binding protein 1 (SATB1) regulates gene expression essential in immune T-cell maturation and switching of fetal globin species, by binding to matrix attachment regions (MARs) of DNA and inducing a local chromatin remodeling.\n"
     ]
    }
   ],
   "execution_count": 11
  },
  {
   "metadata": {},
   "cell_type": "markdown",
   "source": "## Training",
   "id": "b0325f286d9cb645"
  },
  {
   "metadata": {
    "ExecuteTime": {
     "end_time": "2024-09-09T13:13:56.664113Z",
     "start_time": "2024-09-09T13:13:54.668951Z"
    }
   },
   "cell_type": "code",
   "source": [
    "from model.model import DualEncoder\n",
    "embed_dim=512\n",
    "output_dim=128\n",
    "epochs=10\n",
    "tokenizer=BertTokenizer.from_pretrained('bert-base-uncased')\n",
    "model = DualEncoder(tokenizer,embed_dim,output_dim).to(device)"
   ],
   "id": "ca0875468a873024",
   "outputs": [],
   "execution_count": 13
  },
  {
   "metadata": {
    "jupyter": {
     "is_executing": true
    },
    "ExecuteTime": {
     "start_time": "2024-09-09T13:13:56.664113Z"
    }
   },
   "cell_type": "code",
   "source": "model.train(epochs,data_loader=data_loader)",
   "id": "abf299c91f887103",
   "outputs": [
    {
     "name": "stdout",
     "output_type": "stream",
     "text": [
      "Epoch 1/10\n"
     ]
    },
    {
     "name": "stderr",
     "output_type": "stream",
     "text": [
      "  1%|          | 1/126 [00:12<25:35, 12.29s/it]"
     ]
    },
    {
     "name": "stdout",
     "output_type": "stream",
     "text": [
      "Epoch 0, loss = 4.334316730499268\n"
     ]
    },
    {
     "name": "stderr",
     "output_type": "stream",
     "text": [
      "  9%|▊         | 11/126 [04:45<1:07:32, 35.24s/it]"
     ]
    },
    {
     "name": "stdout",
     "output_type": "stream",
     "text": [
      "Epoch 0, loss = 4.0125790726054795\n"
     ]
    },
    {
     "name": "stderr",
     "output_type": "stream",
     "text": [
      " 17%|█▋        | 21/126 [11:31<1:11:29, 40.85s/it]"
     ]
    },
    {
     "name": "stdout",
     "output_type": "stream",
     "text": [
      "Epoch 0, loss = 3.884080784661429\n"
     ]
    },
    {
     "name": "stderr",
     "output_type": "stream",
     "text": [
      " 25%|██▍       | 31/126 [18:23<1:07:04, 42.36s/it]"
     ]
    },
    {
     "name": "stdout",
     "output_type": "stream",
     "text": [
      "Epoch 0, loss = 3.8273548541530484\n"
     ]
    },
    {
     "name": "stderr",
     "output_type": "stream",
     "text": [
      " 33%|███▎      | 41/126 [24:58<50:09, 35.41s/it]  "
     ]
    },
    {
     "name": "stdout",
     "output_type": "stream",
     "text": [
      "Epoch 0, loss = 3.7711395461384845\n"
     ]
    },
    {
     "name": "stderr",
     "output_type": "stream",
     "text": [
      " 40%|████      | 51/126 [32:02<54:02, 43.24s/it]"
     ]
    },
    {
     "name": "stdout",
     "output_type": "stream",
     "text": [
      "Epoch 0, loss = 3.7330664653404084\n"
     ]
    },
    {
     "name": "stderr",
     "output_type": "stream",
     "text": [
      " 48%|████▊     | 61/126 [40:05<49:33, 45.75s/it]  "
     ]
    },
    {
     "name": "stdout",
     "output_type": "stream",
     "text": [
      "Epoch 0, loss = 3.7023555880687278\n"
     ]
    },
    {
     "name": "stderr",
     "output_type": "stream",
     "text": [
      " 54%|█████▍    | 68/126 [44:25<27:05, 28.02s/it]"
     ]
    }
   ],
   "execution_count": null
  },
  {
   "metadata": {
    "jupyter": {
     "is_executing": true
    }
   },
   "cell_type": "code",
   "source": "torch.save(model.state_dict(),'model.pt')",
   "id": "e3d6f257d11a0c8b",
   "outputs": [],
   "execution_count": null
  },
  {
   "metadata": {},
   "cell_type": "code",
   "source": [
    "from loss.loss import CrossEntropyLoss\n",
    "optim=torch.optim.Adam(model.parameters(),lr=1e-5)\n",
    "criterion=CrossEntropyLoss()\n",
    "running_loss=[]\n",
    "for batch,(q,a) in enumerate(data_loader):\n",
    "    \n",
    "    \n",
    "    q = {k: v.to(device) for k, v in q.items()}\n",
    "    a = {k: v.to(device) for k, v in a.items()}\n",
    "    _,_,sin_score=model(q,a)\n",
    "    loss=criterion(sin_score)\n",
    "    #loss.backward()\n",
    "    #optim.step()\n",
    "    running_loss.append(loss.item())\n",
    "    print(loss.item())\n",
    "    \n",
    "    \n",
    "    print(sin_score)"
   ],
   "id": "96b71b227a01332e",
   "outputs": [],
   "execution_count": null
  },
  {
   "metadata": {},
   "cell_type": "code",
   "source": "",
   "id": "85b67ab07a49a380",
   "outputs": [],
   "execution_count": null
  }
 ],
 "metadata": {
  "kernelspec": {
   "display_name": "Python 3",
   "language": "python",
   "name": "python3"
  },
  "language_info": {
   "codemirror_mode": {
    "name": "ipython",
    "version": 2
   },
   "file_extension": ".py",
   "mimetype": "text/x-python",
   "name": "python",
   "nbconvert_exporter": "python",
   "pygments_lexer": "ipython2",
   "version": "2.7.6"
  }
 },
 "nbformat": 4,
 "nbformat_minor": 5
}
